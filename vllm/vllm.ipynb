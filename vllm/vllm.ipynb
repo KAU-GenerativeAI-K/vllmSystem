{
 "cells": [
  {
   "cell_type": "code",
   "execution_count": null,
   "metadata": {
    "vscode": {
     "languageId": "plaintext"
    }
   },
   "outputs": [],
   "source": [
    "!pip install vllm\n",
    "!pip install triton\n",
    "!pip install -U \"huggingface_hub[cli]\"\n",
    "!pip install pyngrok\n",
    "from pyngrok import ngrok\n",
    "!ngrok config add-authtoken [#토큰 작성]"
   ]
  },
  {
   "cell_type": "code",
   "execution_count": null,
   "metadata": {
    "vscode": {
     "languageId": "plaintext"
    }
   },
   "outputs": [],
   "source": [
    "!huggingface-cli login\n",
    "public_url = ngrok.connect(8000)\n",
    "print(f\"Public URL: {public_url}\")"
   ]
  },
  {
   "cell_type": "code",
   "execution_count": null,
   "metadata": {
    "vscode": {
     "languageId": "plaintext"
    }
   },
   "outputs": [],
   "source": [
    "!python -m vllm.entrypoints.openai.api_server --model llava-hf/llava-1.5-7b-hf --dtype auto --api-key token-abc123 --port 8000 --host 0.0.0.0 --chat-template /content/drive/MyDrive/'Colab Notebooks'/template_llava.jinja"
   ]
  }
 ],
 "metadata": {
  "language_info": {
   "name": "python"
  }
 },
 "nbformat": 4,
 "nbformat_minor": 2
}
